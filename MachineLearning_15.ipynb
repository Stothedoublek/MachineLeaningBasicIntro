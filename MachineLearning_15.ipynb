{
 "cells": [
  {
   "cell_type": "markdown",
   "id": "464d1309-ba3f-4b0d-b085-46b8f91d747c",
   "metadata": {},
   "source": [
    "Q1: Explain the following with an example:F\n",
    "Artificial Intelligence\n",
    "Machine Learning,\n",
    "Deep Learning"
   ]
  },
  {
   "cell_type": "markdown",
   "id": "63e6caac-eecc-444b-b302-f16c609ccafd",
   "metadata": {},
   "source": [
    "Artificial Intelligence (AI) is the simulation of human intelligence processes by machines, especially computer systems.\n",
    "It includes learning (the acquisition of information and rules for using the information), reasoning (using rules to reach approximate or definite conclusions), and self-correction.\n",
    "AI has many applications today, including in healthcare, finance, and transportation.\n",
    "\n",
    "Machine Learning (ML) is a subset of AI that involves the use of algorithms to enable machines to learn from data without being explicitly programmed. \n",
    "In other words, it is the process of training a machine to recognize patterns in data and make predictions based on those patterns. \n",
    "Some examples of machine learning include image recognition, speech recognition, and natural language processing.\n",
    "\n",
    "Deep Learning (DL) is a subset of machine learning that involves the use of artificial neural networks to enable machines to learn from data. \n",
    "It is called “deep” because it involves multiple layers of artificial neurons that are used to recognize patterns in data. \n",
    "Some examples of deep learning include image recognition, speech recognition, and natural language processing."
   ]
  },
  {
   "cell_type": "markdown",
   "id": "a631d47f-4849-438a-8bed-3f71cdcf2f05",
   "metadata": {},
   "source": [
    "Q2: What is supervised learning? List some examples of supervised learning."
   ]
  },
  {
   "cell_type": "markdown",
   "id": "61846158-5b8d-4e5b-b519-728141ffcd26",
   "metadata": {},
   "source": [
    "Supervised Learning is a type of machine learning where the algorithm learns from labeled data. In other words, the algorithm is given input-output pairs and learns to map inputs to outputs. Some examples of supervised learning include image classification, spam filtering, and sentiment analysis.\n",
    "\n"
   ]
  },
  {
   "cell_type": "markdown",
   "id": "245a052c-7afb-45bf-9e7e-e41e05bfb019",
   "metadata": {},
   "source": [
    "Q3: What is unsupervised learning? List some examples of unsupervised learning."
   ]
  },
  {
   "cell_type": "markdown",
   "id": "081c43c5-2d34-498f-abec-90bc8ae83576",
   "metadata": {},
   "source": [
    "Unsupervised Learning is a type of machine learning where the algorithm learns from unlabeled data. In other words, the algorithm is given input data without any corresponding output and learns to find patterns in the data. Some examples of unsupervised learning include clustering and anomaly detection."
   ]
  },
  {
   "cell_type": "markdown",
   "id": "b6cf0787-4d07-425c-b880-5660ef3c6400",
   "metadata": {},
   "source": [
    "Q4: What is the difference between AI, ML, DL, and DS?"
   ]
  },
  {
   "cell_type": "markdown",
   "id": "ce995e74-6f1a-4fc7-b2a5-0af7ffd7f878",
   "metadata": {},
   "source": [
    "AI (Artificial Intelligence), ML (Machine Learning), DL (Deep Learning), and DS (Data Science) are all related but different fields. AI is a broad field that encompasses many different subfields, including machine learning and deep learning. Machine learning is a subset of AI that involves the use of algorithms to enable machines to learn from data without being explicitly programmed. Deep learning is a subset of machine learning that involves the use of artificial neural networks to enable machines to learn from data. Data science is an interdisciplinary field that involves the use of statistical and computational methods to extract insights from data."
   ]
  },
  {
   "cell_type": "markdown",
   "id": "14d14edb-1fb8-49c7-a5f0-8f0b967b98b8",
   "metadata": {},
   "source": [
    "Q5: What are the main differences between supervised, unsupervised, and semi-supervised learning?"
   ]
  },
  {
   "cell_type": "markdown",
   "id": "266d6085-3ed2-4826-bc0c-81b1df39d2cd",
   "metadata": {},
   "source": [
    "The main difference between supervised, unsupervised, and semi-supervised learning is in how they are trained. Supervised learning uses labeled data for training while unsupervised learning uses unlabeled data for training. Semi-supervised learning uses both labeled and unlabeled data for training."
   ]
  },
  {
   "cell_type": "markdown",
   "id": "7a230069-cae0-49f0-b0fd-74cb1925a339",
   "metadata": {},
   "source": [
    "Q6: What is train, test and validation split? Explain the importance of each term."
   ]
  },
  {
   "cell_type": "markdown",
   "id": "136334dc-7d62-4b97-9b7c-02f1872d1bdb",
   "metadata": {},
   "source": [
    "Train-test-validation split is a technique used in machine learning to evaluate the performance of a model on new data. The dataset is split into three parts: training set, validation set, and test set. The model is trained on the training set and evaluated on the validation set. The test set is used to evaluate the final performance of the model after it has been trained."
   ]
  },
  {
   "cell_type": "markdown",
   "id": "c4968916-5136-4c99-9278-2878e1942206",
   "metadata": {},
   "source": [
    "Q7: How can unsupervised learning be used in anomaly detection?"
   ]
  },
  {
   "cell_type": "markdown",
   "id": "5103734c-c1a5-42d3-9582-ba10f48299ff",
   "metadata": {},
   "source": [
    "Unsupervised learning can be used in anomaly detection by identifying patterns in data that deviate from normal behavior. For example, if you have a dataset containing information about credit card transactions, you can use unsupervised learning algorithms to identify transactions that are anomalous or fraudulent."
   ]
  },
  {
   "cell_type": "markdown",
   "id": "36a9e24a-7785-4263-a913-f224388fdc8f",
   "metadata": {},
   "source": [
    "Q8: List down some commonly used supervised learning algorithms and unsupervised learning \n",
    "algorithms."
   ]
  },
  {
   "cell_type": "markdown",
   "id": "e784f1a4-e8a9-4da4-8fce-1d84fbafe5fe",
   "metadata": {},
   "source": [
    "Some commonly used supervised learning algorithms include Linear Regression, Logistic Regression, Decision Trees, Random Forests, Support Vector Machines (SVMs), Naive Bayes Classifier etc.\n",
    "\n",
    "Some commonly used unsupervised learning algorithms include K-Means Clustering, Hierarchical Clustering, Principal Component Analysis (PCA), Independent Component Analysis (ICA), Autoencoders etc"
   ]
  }
 ],
 "metadata": {
  "kernelspec": {
   "display_name": "Python 3 (ipykernel)",
   "language": "python",
   "name": "python3"
  },
  "language_info": {
   "codemirror_mode": {
    "name": "ipython",
    "version": 3
   },
   "file_extension": ".py",
   "mimetype": "text/x-python",
   "name": "python",
   "nbconvert_exporter": "python",
   "pygments_lexer": "ipython3",
   "version": "3.10.8"
  }
 },
 "nbformat": 4,
 "nbformat_minor": 5
}
